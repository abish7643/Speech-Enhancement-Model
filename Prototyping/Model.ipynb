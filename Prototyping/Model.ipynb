{
 "cells": [
  {
   "cell_type": "markdown",
   "metadata": {
    "collapsed": true,
    "pycharm": {
     "name": "#%% md\n"
    }
   },
   "source": [
    "Deep Learning Model"
   ]
  },
  {
   "cell_type": "code",
   "execution_count": null,
   "outputs": [],
   "source": [
    "import keras.layers\n",
    "from tensorflow.keras.models import Model, Sequential\n",
    "from tensorflow.keras.layers import Input, Dense, GRU, Dropout\n",
    "from tensorflow.keras import losses, regularizers, metrics"
   ],
   "metadata": {
    "collapsed": false,
    "pycharm": {
     "name": "#%%\n"
    }
   }
  },
  {
   "cell_type": "code",
   "execution_count": null,
   "outputs": [],
   "source": [
    "regulization_value = 0.000001\n"
   ],
   "metadata": {
    "collapsed": false,
    "pycharm": {
     "name": "#%%\n"
    }
   }
  },
  {
   "cell_type": "code",
   "execution_count": null,
   "outputs": [],
   "source": [
    "# Pass Extracted Features\n",
    "initial_input = Input(shape=(None, 42), name=\"Input\")\n",
    "\n",
    "dense1 = Dense(24, name=\"Dense_1\", activation=\"tanh\")(initial_input)\n",
    "\n",
    "# GRU - Voice Activity Detection\n",
    "gru1 = GRU(24, name=\"GRU_1\", activation=\"tanh\",\n",
    "           recurrent_activation=\"sigmoid\", return_sequences=True,\n",
    "           kernel_regularizer=regularizers.l2(regulization_value),\n",
    "           recurrent_regularizer=regularizers.l2(regulization_value))(dense1)\n",
    "\n",
    "# Voice Activity Detection - Output\n",
    "dense2 = Dense(1, name=\"Dense_2\", activation=\"sigmoid\")(gru1)\n",
    "\n",
    "# Noise Input\n",
    "concat_input1 = keras.layers.concatenate([dense1, gru1, initial_input])\n",
    "\n",
    "# GRU with Noise Input\n",
    "gru2 = GRU(48, name=\"GRU_2\", activation=\"relu\",\n",
    "           recurrent_activation=\"sigmoid\", return_sequences=True,\n",
    "           kernel_regularizer=regularizers.l2(regulization_value),\n",
    "           recurrent_regularizer=regularizers.l2(regulization_value))(concat_input1)\n",
    "\n",
    "# Denoise Input\n",
    "concat_input2 = keras.layers.concatenate([gru1, gru2, initial_input])\n",
    "\n",
    "# GRU with Denoise Input\n",
    "gru3 = GRU(96, name=\"GRU_3\", activation=\"tanh\",\n",
    "           recurrent_activation=\"sigmoid\", return_sequences=True,\n",
    "           kernel_regularizer=regularizers.l2(regulization_value),\n",
    "           recurrent_regularizer=regularizers.l2(regulization_value))(concat_input2)\n",
    "\n",
    "# Denoise Output\n",
    "final_output = Dense(22, name=\"Final_Output\", activation=\"sigmoid\")(gru3)\n",
    "\n",
    "# Model\n",
    "model = Model(inputs=initial_input, outputs=[final_output, dense1])\n",
    "\n",
    "# Get Model Summary\n",
    "model.summary()\n",
    "\n",
    "# model.compile(optimizer=\"Adam\", loss=\"mse\", metrics=[metrics.mse])"
   ],
   "metadata": {
    "collapsed": false,
    "pycharm": {
     "name": "#%%\n"
    }
   }
  },
  {
   "cell_type": "code",
   "execution_count": null,
   "outputs": [],
   "source": [],
   "metadata": {
    "collapsed": false,
    "pycharm": {
     "name": "#%%\n"
    }
   }
  }
 ],
 "metadata": {
  "kernelspec": {
   "display_name": "Python 3",
   "language": "python",
   "name": "python3"
  },
  "language_info": {
   "codemirror_mode": {
    "name": "ipython",
    "version": 2
   },
   "file_extension": ".py",
   "mimetype": "text/x-python",
   "name": "python",
   "nbconvert_exporter": "python",
   "pygments_lexer": "ipython2",
   "version": "2.7.6"
  }
 },
 "nbformat": 4,
 "nbformat_minor": 0
}